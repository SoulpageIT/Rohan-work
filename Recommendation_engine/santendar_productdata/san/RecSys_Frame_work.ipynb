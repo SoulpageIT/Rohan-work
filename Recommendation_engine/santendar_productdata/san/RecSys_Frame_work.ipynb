{
 "cells": [
  {
   "cell_type": "markdown",
   "metadata": {},
   "source": [
    "AlgoBase class has the function (fit and test) ,which are used by the other base classes like SVD,KNN basic,SVDpp and what ever custom class we make."
   ]
  },
  {
   "cell_type": "markdown",
   "metadata": {},
   "source": [
    "so to write our own recommendation system and connect it to AlgoBase class we can do as given belowe\n",
    "\n",
    "class my(AlgoBase):\n",
    "    def __init__(self):\n",
    "        AlgoBase.__init__(self):\n",
    "    def estimate(self,x):\n",
    "        print(x)"
   ]
  },
  {
   "cell_type": "code",
   "execution_count": null,
   "metadata": {},
   "outputs": [],
   "source": []
  }
 ],
 "metadata": {
  "kernelspec": {
   "display_name": "Python 3",
   "language": "python",
   "name": "python3"
  },
  "language_info": {
   "codemirror_mode": {
    "name": "ipython",
    "version": 3
   },
   "file_extension": ".py",
   "mimetype": "text/x-python",
   "name": "python",
   "nbconvert_exporter": "python",
   "pygments_lexer": "ipython3",
   "version": "3.7.3"
  }
 },
 "nbformat": 4,
 "nbformat_minor": 2
}
