{
 "cells": [
  {
   "cell_type": "code",
   "execution_count": null,
   "metadata": {},
   "outputs": [],
   "source": [
    "'''\n",
    "---\n",
    "title: \"Floor prediction\"\n",
    "output: html_notebook\n",
    "---\n",
    "#problem Statment.\n",
    "There is a device which has collected the data ,now the device needs to dedicate any new floor by the help of previous data.\n",
    "\n",
    "#Solution\n",
    "we are going to use Machine Learning Algorithms and build a prediction model for this device which can predict on which floor it's standing by collecting the properties of the floor.\n",
    "\n",
    "'''"
   ]
  },
  {
   "cell_type": "code",
   "execution_count": null,
   "metadata": {},
   "outputs": [],
   "source": [
    "#At first i am loading the data set into python program by pandas package\n",
    "import pandas as pd\n",
    "train_x=pd.read_csv(\"X_train.csv\",delimiter=\"\\t\", usecols = [])"
   ]
  },
  {
   "cell_type": "code",
   "execution_count": null,
   "metadata": {},
   "outputs": [],
   "source": []
  }
 ],
 "metadata": {
  "kernelspec": {
   "display_name": "Python 3",
   "language": "python",
   "name": "python3"
  },
  "language_info": {
   "codemirror_mode": {
    "name": "ipython",
    "version": 3
   },
   "file_extension": ".py",
   "mimetype": "text/x-python",
   "name": "python",
   "nbconvert_exporter": "python",
   "pygments_lexer": "ipython3",
   "version": "3.7.1"
  }
 },
 "nbformat": 4,
 "nbformat_minor": 2
}
